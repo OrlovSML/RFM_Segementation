{
 "cells": [
  {
   "cell_type": "markdown",
   "metadata": {
    "id": "5HkWZ6nh7Azg"
   },
   "source": [
    "SOURCE: https://guillaume-martin.github.io/rfm-segmentation-with-python.html"
   ]
  },
   
  },
  {
   "cell_type": "code",
   "execution_count": 1,
   "metadata": {
    "id": "0fk-2Neq7Azl"
   },
   "outputs": [],
   "source": [
    "import pandas as pd\n",
    "from datetime import timedelta\n",
    "import matplotlib.pyplot as plt\n",
    "import numpy as np\n",
    "\n",
    "import datetime "
   ]
  },
  {
   "cell_type": "markdown",
   "metadata": {
    "id": "p9W9RSCA7Azm"
   },
   "source": [
    "# 0. Load and convert to parquet "
   ]
  },
  {
   "cell_type": "code",
   "execution_count": 2,
   "metadata": {
    "id": "mqs4h7hn7Azm",
    "scrolled": true
   },
   "outputs": [
    {
     "name": "stderr",
     "output_type": "stream",
     "text": [
      "C:\\Users\\1\\AppData\\Local\\Temp\\ipykernel_17512\\1091896580.py:2: DeprecationWarning: `np.str` is a deprecated alias for the builtin `str`. To silence this warning, use `str` by itself. Doing this will not modify any behavior and is safe. If you specifically wanted the numpy scalar type, use `np.str_` here.\n",
      "Deprecated in NumPy 1.20; for more details and guidance: https://numpy.org/devdocs/release/1.20.0-notes.html#deprecations\n",
      "  'InvoiceNo': np.str,\n",
      "C:\\Users\\1\\AppData\\Local\\Temp\\ipykernel_17512\\1091896580.py:3: DeprecationWarning: `np.str` is a deprecated alias for the builtin `str`. To silence this warning, use `str` by itself. Doing this will not modify any behavior and is safe. If you specifically wanted the numpy scalar type, use `np.str_` here.\n",
      "Deprecated in NumPy 1.20; for more details and guidance: https://numpy.org/devdocs/release/1.20.0-notes.html#deprecations\n",
      "  'StockCode': np.str,\n",
      "C:\\Users\\1\\AppData\\Local\\Temp\\ipykernel_17512\\1091896580.py:4: DeprecationWarning: `np.str` is a deprecated alias for the builtin `str`. To silence this warning, use `str` by itself. Doing this will not modify any behavior and is safe. If you specifically wanted the numpy scalar type, use `np.str_` here.\n",
      "Deprecated in NumPy 1.20; for more details and guidance: https://numpy.org/devdocs/release/1.20.0-notes.html#deprecations\n",
      "  'Description': np.str,\n",
      "C:\\Users\\1\\AppData\\Local\\Temp\\ipykernel_17512\\1091896580.py:9: DeprecationWarning: `np.str` is a deprecated alias for the builtin `str`. To silence this warning, use `str` by itself. Doing this will not modify any behavior and is safe. If you specifically wanted the numpy scalar type, use `np.str_` here.\n",
      "Deprecated in NumPy 1.20; for more details and guidance: https://numpy.org/devdocs/release/1.20.0-notes.html#deprecations\n",
      "  'Country': np.str\n"
     ]
    }
   ],
   "source": [
    "schema = {\n",
    "    'InvoiceNo': np.str, \n",
    "    'StockCode': np.str,\n",
    "    'Description': np.str, \n",
    "    'Quantity': np.int64, \n",
    "    'InvoiceDate': np.datetime64,\n",
    "    'UnitPrice': np.float64, \n",
    "    'CustomerID': np.float64, \n",
    "    'Country': np.str\n",
    "}"
   ]
  },
  {
   "cell_type": "code",
   "execution_count": 4,
   "metadata": {
    "id": "vp-BSewv7Azm",
    "outputId": "31f2e602-7e1e-46e3-8371-d764af1cab1c"
   },
   "outputs": [
    {
     "data": {
      "text/plain": [
       "Index(['InvoiceNo,StockCode,Description,Quantity,InvoiceDate,UnitPrice,CustomerID,Country'], dtype='object')"
      ]
     },
     "execution_count": 4,
     "metadata": {},
     "output_type": "execute_result"
    }
   ],
   "source": [
    "sales = pd.read_excel('datasets/online-retail.xlsx', dtype=schema)\n",
    "sales.columns"
   ]
  },
  {
   "cell_type": "code",
   "execution_count": 5,
   "metadata": {
    "id": "SbsS2H307Azn"
   },
   "outputs": [
    {
     "ename": "KeyError",
     "evalue": "'Country'",
     "output_type": "error",
     "traceback": [
      "\u001b[1;31m---------------------------------------------------------------------------\u001b[0m",
      "\u001b[1;31mKeyError\u001b[0m                                  Traceback (most recent call last)",
      "File \u001b[1;32m~\\anaconda3\\lib\\site-packages\\pandas\\core\\indexes\\base.py:3621\u001b[0m, in \u001b[0;36mIndex.get_loc\u001b[1;34m(self, key, method, tolerance)\u001b[0m\n\u001b[0;32m   3620\u001b[0m \u001b[38;5;28;01mtry\u001b[39;00m:\n\u001b[1;32m-> 3621\u001b[0m     \u001b[38;5;28;01mreturn\u001b[39;00m \u001b[38;5;28;43mself\u001b[39;49m\u001b[38;5;241;43m.\u001b[39;49m\u001b[43m_engine\u001b[49m\u001b[38;5;241;43m.\u001b[39;49m\u001b[43mget_loc\u001b[49m\u001b[43m(\u001b[49m\u001b[43mcasted_key\u001b[49m\u001b[43m)\u001b[49m\n\u001b[0;32m   3622\u001b[0m \u001b[38;5;28;01mexcept\u001b[39;00m \u001b[38;5;167;01mKeyError\u001b[39;00m \u001b[38;5;28;01mas\u001b[39;00m err:\n",
      "File \u001b[1;32m~\\anaconda3\\lib\\site-packages\\pandas\\_libs\\index.pyx:136\u001b[0m, in \u001b[0;36mpandas._libs.index.IndexEngine.get_loc\u001b[1;34m()\u001b[0m\n",
      "File \u001b[1;32m~\\anaconda3\\lib\\site-packages\\pandas\\_libs\\index.pyx:163\u001b[0m, in \u001b[0;36mpandas._libs.index.IndexEngine.get_loc\u001b[1;34m()\u001b[0m\n",
      "File \u001b[1;32mpandas\\_libs\\hashtable_class_helper.pxi:5198\u001b[0m, in \u001b[0;36mpandas._libs.hashtable.PyObjectHashTable.get_item\u001b[1;34m()\u001b[0m\n",
      "File \u001b[1;32mpandas\\_libs\\hashtable_class_helper.pxi:5206\u001b[0m, in \u001b[0;36mpandas._libs.hashtable.PyObjectHashTable.get_item\u001b[1;34m()\u001b[0m\n",
      "\u001b[1;31mKeyError\u001b[0m: 'Country'",
      "\nThe above exception was the direct cause of the following exception:\n",
      "\u001b[1;31mKeyError\u001b[0m                                  Traceback (most recent call last)",
      "Input \u001b[1;32mIn [5]\u001b[0m, in \u001b[0;36m<cell line: 1>\u001b[1;34m()\u001b[0m\n\u001b[1;32m----> 1\u001b[0m sales[\u001b[38;5;124m'\u001b[39m\u001b[38;5;124mCountry\u001b[39m\u001b[38;5;124m'\u001b[39m] \u001b[38;5;241m=\u001b[39m \u001b[43msales\u001b[49m\u001b[43m[\u001b[49m\u001b[38;5;124;43m'\u001b[39;49m\u001b[38;5;124;43mCountry\u001b[39;49m\u001b[38;5;124;43m'\u001b[39;49m\u001b[43m]\u001b[49m\u001b[38;5;241m.\u001b[39mastype(\u001b[38;5;124m'\u001b[39m\u001b[38;5;124mcategory\u001b[39m\u001b[38;5;124m'\u001b[39m)\n",
      "File \u001b[1;32m~\\anaconda3\\lib\\site-packages\\pandas\\core\\frame.py:3505\u001b[0m, in \u001b[0;36mDataFrame.__getitem__\u001b[1;34m(self, key)\u001b[0m\n\u001b[0;32m   3503\u001b[0m \u001b[38;5;28;01mif\u001b[39;00m \u001b[38;5;28mself\u001b[39m\u001b[38;5;241m.\u001b[39mcolumns\u001b[38;5;241m.\u001b[39mnlevels \u001b[38;5;241m>\u001b[39m \u001b[38;5;241m1\u001b[39m:\n\u001b[0;32m   3504\u001b[0m     \u001b[38;5;28;01mreturn\u001b[39;00m \u001b[38;5;28mself\u001b[39m\u001b[38;5;241m.\u001b[39m_getitem_multilevel(key)\n\u001b[1;32m-> 3505\u001b[0m indexer \u001b[38;5;241m=\u001b[39m \u001b[38;5;28;43mself\u001b[39;49m\u001b[38;5;241;43m.\u001b[39;49m\u001b[43mcolumns\u001b[49m\u001b[38;5;241;43m.\u001b[39;49m\u001b[43mget_loc\u001b[49m\u001b[43m(\u001b[49m\u001b[43mkey\u001b[49m\u001b[43m)\u001b[49m\n\u001b[0;32m   3506\u001b[0m \u001b[38;5;28;01mif\u001b[39;00m is_integer(indexer):\n\u001b[0;32m   3507\u001b[0m     indexer \u001b[38;5;241m=\u001b[39m [indexer]\n",
      "File \u001b[1;32m~\\anaconda3\\lib\\site-packages\\pandas\\core\\indexes\\base.py:3623\u001b[0m, in \u001b[0;36mIndex.get_loc\u001b[1;34m(self, key, method, tolerance)\u001b[0m\n\u001b[0;32m   3621\u001b[0m     \u001b[38;5;28;01mreturn\u001b[39;00m \u001b[38;5;28mself\u001b[39m\u001b[38;5;241m.\u001b[39m_engine\u001b[38;5;241m.\u001b[39mget_loc(casted_key)\n\u001b[0;32m   3622\u001b[0m \u001b[38;5;28;01mexcept\u001b[39;00m \u001b[38;5;167;01mKeyError\u001b[39;00m \u001b[38;5;28;01mas\u001b[39;00m err:\n\u001b[1;32m-> 3623\u001b[0m     \u001b[38;5;28;01mraise\u001b[39;00m \u001b[38;5;167;01mKeyError\u001b[39;00m(key) \u001b[38;5;28;01mfrom\u001b[39;00m \u001b[38;5;21;01merr\u001b[39;00m\n\u001b[0;32m   3624\u001b[0m \u001b[38;5;28;01mexcept\u001b[39;00m \u001b[38;5;167;01mTypeError\u001b[39;00m:\n\u001b[0;32m   3625\u001b[0m     \u001b[38;5;66;03m# If we have a listlike key, _check_indexing_error will raise\u001b[39;00m\n\u001b[0;32m   3626\u001b[0m     \u001b[38;5;66;03m#  InvalidIndexError. Otherwise we fall through and re-raise\u001b[39;00m\n\u001b[0;32m   3627\u001b[0m     \u001b[38;5;66;03m#  the TypeError.\u001b[39;00m\n\u001b[0;32m   3628\u001b[0m     \u001b[38;5;28mself\u001b[39m\u001b[38;5;241m.\u001b[39m_check_indexing_error(key)\n",
      "\u001b[1;31mKeyError\u001b[0m: 'Country'"
     ]
    }
   ],
   "source": [
    "sales['Country'] = sales['Country'].astype('category')"
   ]
  },
  {
   "cell_type": "markdown",
   "metadata": {
    "id": "2v6X7YLY7Azn"
   },
   "source": [
    "sales.dtypes"
   ]
  },
  {
   "cell_type": "markdown",
   "metadata": {
    "id": "27x_tVwC7Azn"
   },
   "source": [
    "sales.head()"
   ]
  },
  {
   "cell_type": "code",
   "execution_count": null,
   "metadata": {
    "id": "LCGO0Pwm7Azo"
   },
   "outputs": [],
   "source": [
    "def get_month(dt):\n",
    "    return datetime.date(dt.year, dt.month, 1)\n",
    "    \n",
    "    \n",
    "sales['ptn_date'] = sales['InvoiceDate'].apply(lambda x: get_month(x))\n"
   ]
  },
  {
   "cell_type": "code",
   "execution_count": null,
   "metadata": {
    "id": "unPxgB4w7Azo"
   },
   "outputs": [],
   "source": [
    "sales.to_parquet('datasets/online_retail.parquet.gzip', compression='gzip')\n",
    "                 #, partition_cols=['ptn_date'])"
   ]
  },
  {
   "cell_type": "markdown",
   "metadata": {
    "id": "98g6vkOF7Azo"
   },
   "source": [
    "# 1. Load and prepare data"
   ]
  },
  {
   "cell_type": "code",
   "execution_count": null,
   "metadata": {
    "id": "LbcDlr977Azo"
   },
   "outputs": [],
   "source": [
    "sales = pd.read_parquet('datasets/online_retail.parquet.gzip')"
   ]
  },
  {
   "cell_type": "code",
   "execution_count": null,
   "metadata": {
    "id": "pdmszMqY7Azo",
    "outputId": "2c92d20c-3230-42db-a376-b6d9112e05f2"
   },
   "outputs": [
    {
     "data": {
      "text/plain": [
       "InvoiceNo              object\n",
       "StockCode              object\n",
       "Description            object\n",
       "Quantity                int64\n",
       "InvoiceDate    datetime64[ns]\n",
       "UnitPrice             float64\n",
       "CustomerID            float64\n",
       "Country              category\n",
       "ptn_date               object\n",
       "dtype: object"
      ]
     },
     "execution_count": 23,
     "metadata": {
      "tags": []
     },
     "output_type": "execute_result"
    }
   ],
   "source": [
    "sales.dtypes"
   ]
  },
  {
   "cell_type": "code",
   "execution_count": null,
   "metadata": {
    "id": "fAQYaop57Azp",
    "outputId": "8bc929b9-2291-44f2-93af-4c40e0288bbe"
   },
   "outputs": [
    {
     "data": {
      "text/plain": [
       "InvoiceNo           0\n",
       "StockCode           0\n",
       "Description      1454\n",
       "Quantity            0\n",
       "InvoiceDate         0\n",
       "UnitPrice           0\n",
       "CustomerID     135080\n",
       "Country             0\n",
       "ptn_date            0\n",
       "dtype: int64"
      ]
     },
     "execution_count": 24,
     "metadata": {
      "tags": []
     },
     "output_type": "execute_result"
    }
   ],
   "source": [
    "sales.isnull().sum()"
   ]
  },
  {
   "cell_type": "markdown",
   "metadata": {
    "id": "HYcLgvni7Azp"
   },
   "source": [
    "## Replace all rows with empty CustomerID"
   ]
  },
  {
   "cell_type": "code",
   "execution_count": null,
   "metadata": {
    "id": "PcDLfh_T7Azp"
   },
   "outputs": [],
   "source": [
    "sales.dropna(subset=['CustomerID'], inplace=True)"
   ]
  },
  {
   "cell_type": "code",
   "execution_count": null,
   "metadata": {
    "id": "prQpNkJV7Azp"
   },
   "outputs": [],
   "source": [
    "sales['Price'] = sales['Quantity'] * sales['UnitPrice']"
   ]
  },
  {
   "cell_type": "code",
   "execution_count": null,
   "metadata": {
    "id": "Ng7PAY3H7Azp",
    "outputId": "72dff42c-73a6-460e-a5e6-39ef1c1e23fb"
   },
   "outputs": [
    {
     "data": {
      "text/plain": [
       "576339    542\n",
       "579196    533\n",
       "580727    529\n",
       "578270    442\n",
       "573576    435\n",
       "Name: InvoiceNo, dtype: int64"
      ]
     },
     "execution_count": 27,
     "metadata": {
      "tags": []
     },
     "output_type": "execute_result"
    }
   ],
   "source": [
    "sales['InvoiceNo'].value_counts().head()"
   ]
  },
  {
   "cell_type": "markdown",
   "metadata": {
    "id": "xMEUslL97Azp"
   },
   "source": [
    "## Aggregate all rows for orders"
   ]
  },
  {
   "cell_type": "code",
   "execution_count": null,
   "metadata": {
    "id": "NLJ-erM97Azq",
    "outputId": "63055cd3-3c75-49f8-d0e1-d6ffb2884a23"
   },
   "outputs": [
    {
     "data": {
      "text/html": [
       "<div>\n",
       "<style scoped>\n",
       "    .dataframe tbody tr th:only-of-type {\n",
       "        vertical-align: middle;\n",
       "    }\n",
       "\n",
       "    .dataframe tbody tr th {\n",
       "        vertical-align: top;\n",
       "    }\n",
       "\n",
       "    .dataframe thead th {\n",
       "        text-align: right;\n",
       "    }\n",
       "</style>\n",
       "<table border=\"1\" class=\"dataframe\">\n",
       "  <thead>\n",
       "    <tr style=\"text-align: right;\">\n",
       "      <th></th>\n",
       "      <th>InvoiceNo</th>\n",
       "      <th>InvoiceDate</th>\n",
       "      <th>CustomerID</th>\n",
       "      <th>Price</th>\n",
       "    </tr>\n",
       "  </thead>\n",
       "  <tbody>\n",
       "    <tr>\n",
       "      <th>0</th>\n",
       "      <td>536365</td>\n",
       "      <td>2010-12-01 08:26:00</td>\n",
       "      <td>17850.0</td>\n",
       "      <td>139.12</td>\n",
       "    </tr>\n",
       "    <tr>\n",
       "      <th>1</th>\n",
       "      <td>536366</td>\n",
       "      <td>2010-12-01 08:28:00</td>\n",
       "      <td>17850.0</td>\n",
       "      <td>22.20</td>\n",
       "    </tr>\n",
       "    <tr>\n",
       "      <th>2</th>\n",
       "      <td>536367</td>\n",
       "      <td>2010-12-01 08:34:00</td>\n",
       "      <td>13047.0</td>\n",
       "      <td>278.73</td>\n",
       "    </tr>\n",
       "    <tr>\n",
       "      <th>3</th>\n",
       "      <td>536368</td>\n",
       "      <td>2010-12-01 08:34:00</td>\n",
       "      <td>13047.0</td>\n",
       "      <td>70.05</td>\n",
       "    </tr>\n",
       "    <tr>\n",
       "      <th>4</th>\n",
       "      <td>536369</td>\n",
       "      <td>2010-12-01 08:35:00</td>\n",
       "      <td>13047.0</td>\n",
       "      <td>17.85</td>\n",
       "    </tr>\n",
       "  </tbody>\n",
       "</table>\n",
       "</div>"
      ],
      "text/plain": [
       "  InvoiceNo         InvoiceDate  CustomerID   Price\n",
       "0    536365 2010-12-01 08:26:00     17850.0  139.12\n",
       "1    536366 2010-12-01 08:28:00     17850.0   22.20\n",
       "2    536367 2010-12-01 08:34:00     13047.0  278.73\n",
       "3    536368 2010-12-01 08:34:00     13047.0   70.05\n",
       "4    536369 2010-12-01 08:35:00     13047.0   17.85"
      ]
     },
     "execution_count": 28,
     "metadata": {
      "tags": []
     },
     "output_type": "execute_result"
    }
   ],
   "source": [
    "orders = sales.groupby(['InvoiceNo', 'InvoiceDate', 'CustomerID']).agg({'Price': lambda x: x.sum()}).reset_index()\n",
    "orders.head()"
   ]
  },
  {
   "cell_type": "code",
   "execution_count": null,
   "metadata": {
    "id": "oRfGgOPp7Azq"
   },
   "outputs": [],
   "source": []
  },
  {
   "cell_type": "code",
   "execution_count": null,
   "metadata": {
    "id": "U9AXLk6v7Azq",
    "outputId": "b6df8d02-06fc-479f-d96b-ea8fccb3691c"
   },
   "outputs": [
    {
     "name": "stdout",
     "output_type": "stream",
     "text": [
      "2011-12-10 12:50:00\n"
     ]
    }
   ],
   "source": [
    "NOW = orders['InvoiceDate'].max() + timedelta(days=1)\n",
    "\n",
    "period = 365\n",
    "\n",
    "print(NOW)"
   ]
  },
  {
   "cell_type": "markdown",
   "metadata": {
    "id": "2H2zTHqb7Azq"
   },
   "source": [
    "# Calculate the Recency, Frequency and Monetary Value of each customers"
   ]
  },
  {
   "cell_type": "code",
   "execution_count": null,
   "metadata": {
    "id": "JPYc6Tn67Azq"
   },
   "outputs": [],
   "source": [
    "orders['DaysSinceOrder'] = orders['InvoiceDate'].apply(lambda x: (NOW - x).days)"
   ]
  },
  {
   "cell_type": "code",
   "execution_count": null,
   "metadata": {
    "id": "jbjzrtml7Azq",
    "outputId": "d4a048f2-35a2-4f7b-e361-d09d8a90a479"
   },
   "outputs": [
    {
     "data": {
      "text/html": [
       "<div>\n",
       "<style scoped>\n",
       "    .dataframe tbody tr th:only-of-type {\n",
       "        vertical-align: middle;\n",
       "    }\n",
       "\n",
       "    .dataframe tbody tr th {\n",
       "        vertical-align: top;\n",
       "    }\n",
       "\n",
       "    .dataframe thead th {\n",
       "        text-align: right;\n",
       "    }\n",
       "</style>\n",
       "<table border=\"1\" class=\"dataframe\">\n",
       "  <thead>\n",
       "    <tr style=\"text-align: right;\">\n",
       "      <th></th>\n",
       "      <th>InvoiceNo</th>\n",
       "      <th>InvoiceDate</th>\n",
       "      <th>CustomerID</th>\n",
       "      <th>Price</th>\n",
       "      <th>DaysSinceOrder</th>\n",
       "    </tr>\n",
       "  </thead>\n",
       "  <tbody>\n",
       "    <tr>\n",
       "      <th>15030</th>\n",
       "      <td>573381</td>\n",
       "      <td>2011-10-30 14:05:00</td>\n",
       "      <td>17590.0</td>\n",
       "      <td>349.38</td>\n",
       "      <td>40</td>\n",
       "    </tr>\n",
       "    <tr>\n",
       "      <th>17223</th>\n",
       "      <td>578352</td>\n",
       "      <td>2011-11-24 10:02:00</td>\n",
       "      <td>16596.0</td>\n",
       "      <td>129.50</td>\n",
       "      <td>16</td>\n",
       "    </tr>\n",
       "    <tr>\n",
       "      <th>7510</th>\n",
       "      <td>555405</td>\n",
       "      <td>2011-06-02 19:17:00</td>\n",
       "      <td>17531.0</td>\n",
       "      <td>296.70</td>\n",
       "      <td>190</td>\n",
       "    </tr>\n",
       "    <tr>\n",
       "      <th>13720</th>\n",
       "      <td>570270</td>\n",
       "      <td>2011-10-10 10:23:00</td>\n",
       "      <td>15304.0</td>\n",
       "      <td>111.90</td>\n",
       "      <td>61</td>\n",
       "    </tr>\n",
       "    <tr>\n",
       "      <th>5661</th>\n",
       "      <td>550919</td>\n",
       "      <td>2011-04-21 14:06:00</td>\n",
       "      <td>14735.0</td>\n",
       "      <td>19.50</td>\n",
       "      <td>232</td>\n",
       "    </tr>\n",
       "    <tr>\n",
       "      <th>20507</th>\n",
       "      <td>C559140</td>\n",
       "      <td>2011-07-06 13:42:00</td>\n",
       "      <td>13420.0</td>\n",
       "      <td>-17.40</td>\n",
       "      <td>156</td>\n",
       "    </tr>\n",
       "    <tr>\n",
       "      <th>3803</th>\n",
       "      <td>546249</td>\n",
       "      <td>2011-03-10 13:58:00</td>\n",
       "      <td>14606.0</td>\n",
       "      <td>99.95</td>\n",
       "      <td>274</td>\n",
       "    </tr>\n",
       "    <tr>\n",
       "      <th>20072</th>\n",
       "      <td>C554334</td>\n",
       "      <td>2011-05-23 17:16:00</td>\n",
       "      <td>13089.0</td>\n",
       "      <td>-17.85</td>\n",
       "      <td>200</td>\n",
       "    </tr>\n",
       "    <tr>\n",
       "      <th>8130</th>\n",
       "      <td>556912</td>\n",
       "      <td>2011-06-15 13:26:00</td>\n",
       "      <td>15005.0</td>\n",
       "      <td>289.86</td>\n",
       "      <td>177</td>\n",
       "    </tr>\n",
       "    <tr>\n",
       "      <th>20443</th>\n",
       "      <td>C558360</td>\n",
       "      <td>2011-06-28 15:10:00</td>\n",
       "      <td>16701.0</td>\n",
       "      <td>-13.46</td>\n",
       "      <td>164</td>\n",
       "    </tr>\n",
       "    <tr>\n",
       "      <th>11320</th>\n",
       "      <td>564641</td>\n",
       "      <td>2011-08-26 13:16:00</td>\n",
       "      <td>13489.0</td>\n",
       "      <td>162.48</td>\n",
       "      <td>105</td>\n",
       "    </tr>\n",
       "    <tr>\n",
       "      <th>7485</th>\n",
       "      <td>555349</td>\n",
       "      <td>2011-06-02 12:08:00</td>\n",
       "      <td>16729.0</td>\n",
       "      <td>294.69</td>\n",
       "      <td>191</td>\n",
       "    </tr>\n",
       "    <tr>\n",
       "      <th>19297</th>\n",
       "      <td>C544590</td>\n",
       "      <td>2011-02-21 15:12:00</td>\n",
       "      <td>14744.0</td>\n",
       "      <td>-8.50</td>\n",
       "      <td>291</td>\n",
       "    </tr>\n",
       "    <tr>\n",
       "      <th>2773</th>\n",
       "      <td>543734</td>\n",
       "      <td>2011-02-11 12:22:00</td>\n",
       "      <td>17512.0</td>\n",
       "      <td>494.51</td>\n",
       "      <td>302</td>\n",
       "    </tr>\n",
       "    <tr>\n",
       "      <th>5248</th>\n",
       "      <td>549944</td>\n",
       "      <td>2011-04-13 12:23:00</td>\n",
       "      <td>14262.0</td>\n",
       "      <td>240.00</td>\n",
       "      <td>241</td>\n",
       "    </tr>\n",
       "    <tr>\n",
       "      <th>15341</th>\n",
       "      <td>574271</td>\n",
       "      <td>2011-11-03 14:32:00</td>\n",
       "      <td>14607.0</td>\n",
       "      <td>1000.00</td>\n",
       "      <td>36</td>\n",
       "    </tr>\n",
       "    <tr>\n",
       "      <th>5287</th>\n",
       "      <td>549995</td>\n",
       "      <td>2011-04-14 08:32:00</td>\n",
       "      <td>16131.0</td>\n",
       "      <td>1056.36</td>\n",
       "      <td>240</td>\n",
       "    </tr>\n",
       "    <tr>\n",
       "      <th>19061</th>\n",
       "      <td>C542218</td>\n",
       "      <td>2011-01-26 12:36:00</td>\n",
       "      <td>14606.0</td>\n",
       "      <td>-4.15</td>\n",
       "      <td>318</td>\n",
       "    </tr>\n",
       "    <tr>\n",
       "      <th>16826</th>\n",
       "      <td>577534</td>\n",
       "      <td>2011-11-20 14:05:00</td>\n",
       "      <td>18127.0</td>\n",
       "      <td>23.79</td>\n",
       "      <td>19</td>\n",
       "    </tr>\n",
       "    <tr>\n",
       "      <th>17482</th>\n",
       "      <td>579103</td>\n",
       "      <td>2011-11-28 11:39:00</td>\n",
       "      <td>18041.0</td>\n",
       "      <td>267.40</td>\n",
       "      <td>12</td>\n",
       "    </tr>\n",
       "  </tbody>\n",
       "</table>\n",
       "</div>"
      ],
      "text/plain": [
       "      InvoiceNo         InvoiceDate  CustomerID    Price  DaysSinceOrder\n",
       "15030    573381 2011-10-30 14:05:00     17590.0   349.38              40\n",
       "17223    578352 2011-11-24 10:02:00     16596.0   129.50              16\n",
       "7510     555405 2011-06-02 19:17:00     17531.0   296.70             190\n",
       "13720    570270 2011-10-10 10:23:00     15304.0   111.90              61\n",
       "5661     550919 2011-04-21 14:06:00     14735.0    19.50             232\n",
       "20507   C559140 2011-07-06 13:42:00     13420.0   -17.40             156\n",
       "3803     546249 2011-03-10 13:58:00     14606.0    99.95             274\n",
       "20072   C554334 2011-05-23 17:16:00     13089.0   -17.85             200\n",
       "8130     556912 2011-06-15 13:26:00     15005.0   289.86             177\n",
       "20443   C558360 2011-06-28 15:10:00     16701.0   -13.46             164\n",
       "11320    564641 2011-08-26 13:16:00     13489.0   162.48             105\n",
       "7485     555349 2011-06-02 12:08:00     16729.0   294.69             191\n",
       "19297   C544590 2011-02-21 15:12:00     14744.0    -8.50             291\n",
       "2773     543734 2011-02-11 12:22:00     17512.0   494.51             302\n",
       "5248     549944 2011-04-13 12:23:00     14262.0   240.00             241\n",
       "15341    574271 2011-11-03 14:32:00     14607.0  1000.00              36\n",
       "5287     549995 2011-04-14 08:32:00     16131.0  1056.36             240\n",
       "19061   C542218 2011-01-26 12:36:00     14606.0    -4.15             318\n",
       "16826    577534 2011-11-20 14:05:00     18127.0    23.79              19\n",
       "17482    579103 2011-11-28 11:39:00     18041.0   267.40              12"
      ]
     },
     "execution_count": 77,
     "metadata": {
      "tags": []
     },
     "output_type": "execute_result"
    }
   ],
   "source": [
    "orders.sample(20)"
   ]
  },
  {
   "cell_type": "code",
   "execution_count": null,
   "metadata": {
    "id": "bQt8q5dJ7Azr",
    "outputId": "fd4b41e7-fcb5-4a7e-a4f4-c1e29ab239e0"
   },
   "outputs": [
    {
     "data": {
      "text/html": [
       "<div>\n",
       "<style scoped>\n",
       "    .dataframe tbody tr th:only-of-type {\n",
       "        vertical-align: middle;\n",
       "    }\n",
       "\n",
       "    .dataframe tbody tr th {\n",
       "        vertical-align: top;\n",
       "    }\n",
       "\n",
       "    .dataframe thead th {\n",
       "        text-align: right;\n",
       "    }\n",
       "</style>\n",
       "<table border=\"1\" class=\"dataframe\">\n",
       "  <thead>\n",
       "    <tr style=\"text-align: right;\">\n",
       "      <th></th>\n",
       "      <th>InvoiceNo</th>\n",
       "      <th>StockCode</th>\n",
       "      <th>Description</th>\n",
       "      <th>Quantity</th>\n",
       "      <th>InvoiceDate</th>\n",
       "      <th>UnitPrice</th>\n",
       "      <th>CustomerID</th>\n",
       "      <th>Country</th>\n",
       "      <th>ptn_date</th>\n",
       "      <th>Price</th>\n",
       "    </tr>\n",
       "  </thead>\n",
       "  <tbody>\n",
       "    <tr>\n",
       "      <th>242590</th>\n",
       "      <td>C558360</td>\n",
       "      <td>21530</td>\n",
       "      <td>DAIRY MAID TOASTRACK</td>\n",
       "      <td>-12</td>\n",
       "      <td>2011-06-28 15:10:00</td>\n",
       "      <td>0.79</td>\n",
       "      <td>16701.0</td>\n",
       "      <td>United Kingdom</td>\n",
       "      <td>2011-06-01</td>\n",
       "      <td>-9.48</td>\n",
       "    </tr>\n",
       "    <tr>\n",
       "      <th>242591</th>\n",
       "      <td>C558360</td>\n",
       "      <td>79163</td>\n",
       "      <td>BLACK CHAMPAGNE GLASS</td>\n",
       "      <td>-7</td>\n",
       "      <td>2011-06-28 15:10:00</td>\n",
       "      <td>0.39</td>\n",
       "      <td>16701.0</td>\n",
       "      <td>United Kingdom</td>\n",
       "      <td>2011-06-01</td>\n",
       "      <td>-2.73</td>\n",
       "    </tr>\n",
       "    <tr>\n",
       "      <th>242592</th>\n",
       "      <td>C558360</td>\n",
       "      <td>23168</td>\n",
       "      <td>CLASSIC CAFE SUGAR DISPENSER</td>\n",
       "      <td>-1</td>\n",
       "      <td>2011-06-28 15:10:00</td>\n",
       "      <td>1.25</td>\n",
       "      <td>16701.0</td>\n",
       "      <td>United Kingdom</td>\n",
       "      <td>2011-06-01</td>\n",
       "      <td>-1.25</td>\n",
       "    </tr>\n",
       "  </tbody>\n",
       "</table>\n",
       "</div>"
      ],
      "text/plain": [
       "       InvoiceNo StockCode                   Description  Quantity  \\\n",
       "242590   C558360     21530          DAIRY MAID TOASTRACK       -12   \n",
       "242591   C558360     79163         BLACK CHAMPAGNE GLASS        -7   \n",
       "242592   C558360     23168  CLASSIC CAFE SUGAR DISPENSER        -1   \n",
       "\n",
       "               InvoiceDate  UnitPrice  CustomerID         Country    ptn_date  \\\n",
       "242590 2011-06-28 15:10:00       0.79     16701.0  United Kingdom  2011-06-01   \n",
       "242591 2011-06-28 15:10:00       0.39     16701.0  United Kingdom  2011-06-01   \n",
       "242592 2011-06-28 15:10:00       1.25     16701.0  United Kingdom  2011-06-01   \n",
       "\n",
       "        Price  \n",
       "242590  -9.48  \n",
       "242591  -2.73  \n",
       "242592  -1.25  "
      ]
     },
     "execution_count": 78,
     "metadata": {
      "tags": []
     },
     "output_type": "execute_result"
    }
   ],
   "source": [
    "sales[sales['InvoiceNo']=='C558360'] #C558360, C544590"
   ]
  },
  {
   "cell_type": "code",
   "execution_count": null,
   "metadata": {
    "id": "6L10dvD17Azr",
    "outputId": "35b366ac-3435-4876-ae42-e53af2798d9e"
   },
   "outputs": [
    {
     "data": {
      "text/html": [
       "<div>\n",
       "<style scoped>\n",
       "    .dataframe tbody tr th:only-of-type {\n",
       "        vertical-align: middle;\n",
       "    }\n",
       "\n",
       "    .dataframe tbody tr th {\n",
       "        vertical-align: top;\n",
       "    }\n",
       "\n",
       "    .dataframe thead th {\n",
       "        text-align: right;\n",
       "    }\n",
       "</style>\n",
       "<table border=\"1\" class=\"dataframe\">\n",
       "  <thead>\n",
       "    <tr style=\"text-align: right;\">\n",
       "      <th></th>\n",
       "      <th>CustomerID</th>\n",
       "      <th>Recency</th>\n",
       "      <th>Frequency</th>\n",
       "      <th>Monetary</th>\n",
       "    </tr>\n",
       "  </thead>\n",
       "  <tbody>\n",
       "    <tr>\n",
       "      <th>0</th>\n",
       "      <td>12346.0</td>\n",
       "      <td>326</td>\n",
       "      <td>2</td>\n",
       "      <td>0.00</td>\n",
       "    </tr>\n",
       "    <tr>\n",
       "      <th>1</th>\n",
       "      <td>12347.0</td>\n",
       "      <td>2</td>\n",
       "      <td>6</td>\n",
       "      <td>3598.21</td>\n",
       "    </tr>\n",
       "    <tr>\n",
       "      <th>2</th>\n",
       "      <td>12348.0</td>\n",
       "      <td>75</td>\n",
       "      <td>4</td>\n",
       "      <td>1797.24</td>\n",
       "    </tr>\n",
       "    <tr>\n",
       "      <th>3</th>\n",
       "      <td>12349.0</td>\n",
       "      <td>19</td>\n",
       "      <td>1</td>\n",
       "      <td>1757.55</td>\n",
       "    </tr>\n",
       "    <tr>\n",
       "      <th>4</th>\n",
       "      <td>12350.0</td>\n",
       "      <td>310</td>\n",
       "      <td>1</td>\n",
       "      <td>334.40</td>\n",
       "    </tr>\n",
       "  </tbody>\n",
       "</table>\n",
       "</div>"
      ],
      "text/plain": [
       "   CustomerID  Recency  Frequency  Monetary\n",
       "0     12346.0      326          2      0.00\n",
       "1     12347.0        2          6   3598.21\n",
       "2     12348.0       75          4   1797.24\n",
       "3     12349.0       19          1   1757.55\n",
       "4     12350.0      310          1    334.40"
      ]
     },
     "execution_count": 80,
     "metadata": {
      "tags": []
     },
     "output_type": "execute_result"
    }
   ],
   "source": [
    "\n",
    "aggr = {\n",
    "    'DaysSinceOrder': lambda x: x.min(),  # the number of days since last order (Recency)\n",
    "    'InvoiceDate': lambda x: len([d for d in x if d >= NOW - timedelta(days=period)]), # the total number of orders in the last period (Frequency)\n",
    "}\n",
    "rfm = orders.groupby('CustomerID').agg(aggr).reset_index()\n",
    "rfm.rename(columns={'DaysSinceOrder': 'Recency', 'InvoiceDate': 'Frequency'}, inplace=True)\n",
    "\n",
    "rfm['Monetary'] = rfm['CustomerID'].apply(lambda x: orders[(orders['CustomerID'] == x) & \\\n",
    "                                                           (orders['InvoiceDate'] >= NOW - timedelta(days=period))]\\\n",
    "                                                           ['Price'].sum())\n",
    "rfm.head()\n",
    "\n"
   ]
  },
  {
   "cell_type": "code",
   "execution_count": null,
   "metadata": {
    "id": "3k9uvih77Azr",
    "outputId": "5a1362a2-4c5e-4cdf-f600-6b2417bf826f"
   },
   "outputs": [
    {
     "data": {
      "text/plain": [
       "{'Recency': {0.2: 11.0, 0.4: 32.0, 0.6: 71.0, 0.8: 178.80000000000018},\n",
       " 'Frequency': {0.2: 1.0, 0.4: 2.0, 0.6: 3.0, 0.8: 6.0},\n",
       " 'Monetary': {0.2: 215.89800000000002,\n",
       "  0.4: 440.432,\n",
       "  0.6: 876.3679999999999,\n",
       "  0.8: 1909.6580000000006}}"
      ]
     },
     "execution_count": 81,
     "metadata": {
      "tags": []
     },
     "output_type": "execute_result"
    }
   ],
   "source": [
    "quintiles = rfm[['Recency', 'Frequency', 'Monetary']].quantile([.2, .4, .6, .8]).to_dict()\n",
    "quintiles"
   ]
  },
  {
   "cell_type": "code",
   "execution_count": null,
   "metadata": {
    "id": "n7BrAYxp7Azr"
   },
   "outputs": [],
   "source": [
    "\n",
    "def r_score(x):\n",
    "    if x <= quintiles['Recency'][.2]:\n",
    "        return 5\n",
    "    elif x <= quintiles['Recency'][.4]:\n",
    "        return 4\n",
    "    elif x <= quintiles['Recency'][.6]:\n",
    "        return 3\n",
    "    elif x <= quintiles['Recency'][.8]:\n",
    "        return 2\n",
    "    else:\n",
    "        return 1\n",
    "    \n",
    "def fm_score(x, c):\n",
    "    if x <= quintiles[c][.2]:\n",
    "        return 1\n",
    "    elif x <= quintiles[c][.4]:\n",
    "        return 2\n",
    "    elif x <= quintiles[c][.6]:\n",
    "        return 3\n",
    "    elif x <= quintiles[c][.8]:\n",
    "        return 4\n",
    "    else:\n",
    "        return 5 \n",
    "    \n",
    "\n",
    "rfm['R'] = rfm['Recency'].apply(lambda x: r_score(x))\n",
    "rfm['F'] = rfm['Frequency'].apply(lambda x: fm_score(x, 'Frequency'))\n",
    "rfm['M'] = rfm['Monetary'].apply(lambda x: fm_score(x, 'Monetary'))\n"
   ]
  },
  {
   "cell_type": "code",
   "execution_count": null,
   "metadata": {
    "id": "Uxomq_LG7Azr",
    "outputId": "6ecddb9c-8dbe-46d7-da62-ed956af9bb1b"
   },
   "outputs": [
    {
     "data": {
      "text/html": [
       "<div>\n",
       "<style scoped>\n",
       "    .dataframe tbody tr th:only-of-type {\n",
       "        vertical-align: middle;\n",
       "    }\n",
       "\n",
       "    .dataframe tbody tr th {\n",
       "        vertical-align: top;\n",
       "    }\n",
       "\n",
       "    .dataframe thead th {\n",
       "        text-align: right;\n",
       "    }\n",
       "</style>\n",
       "<table border=\"1\" class=\"dataframe\">\n",
       "  <thead>\n",
       "    <tr style=\"text-align: right;\">\n",
       "      <th></th>\n",
       "      <th>CustomerID</th>\n",
       "      <th>Recency</th>\n",
       "      <th>Frequency</th>\n",
       "      <th>Monetary</th>\n",
       "      <th>R</th>\n",
       "      <th>F</th>\n",
       "      <th>M</th>\n",
       "      <th>RFM Score</th>\n",
       "    </tr>\n",
       "  </thead>\n",
       "  <tbody>\n",
       "    <tr>\n",
       "      <th>0</th>\n",
       "      <td>12346.0</td>\n",
       "      <td>326</td>\n",
       "      <td>2</td>\n",
       "      <td>0.00</td>\n",
       "      <td>1</td>\n",
       "      <td>2</td>\n",
       "      <td>1</td>\n",
       "      <td>121</td>\n",
       "    </tr>\n",
       "    <tr>\n",
       "      <th>1</th>\n",
       "      <td>12347.0</td>\n",
       "      <td>2</td>\n",
       "      <td>6</td>\n",
       "      <td>3598.21</td>\n",
       "      <td>5</td>\n",
       "      <td>4</td>\n",
       "      <td>5</td>\n",
       "      <td>545</td>\n",
       "    </tr>\n",
       "    <tr>\n",
       "      <th>2</th>\n",
       "      <td>12348.0</td>\n",
       "      <td>75</td>\n",
       "      <td>4</td>\n",
       "      <td>1797.24</td>\n",
       "      <td>2</td>\n",
       "      <td>4</td>\n",
       "      <td>4</td>\n",
       "      <td>244</td>\n",
       "    </tr>\n",
       "    <tr>\n",
       "      <th>3</th>\n",
       "      <td>12349.0</td>\n",
       "      <td>19</td>\n",
       "      <td>1</td>\n",
       "      <td>1757.55</td>\n",
       "      <td>4</td>\n",
       "      <td>1</td>\n",
       "      <td>4</td>\n",
       "      <td>414</td>\n",
       "    </tr>\n",
       "    <tr>\n",
       "      <th>4</th>\n",
       "      <td>12350.0</td>\n",
       "      <td>310</td>\n",
       "      <td>1</td>\n",
       "      <td>334.40</td>\n",
       "      <td>1</td>\n",
       "      <td>1</td>\n",
       "      <td>2</td>\n",
       "      <td>112</td>\n",
       "    </tr>\n",
       "  </tbody>\n",
       "</table>\n",
       "</div>"
      ],
      "text/plain": [
       "   CustomerID  Recency  Frequency  Monetary  R  F  M RFM Score\n",
       "0     12346.0      326          2      0.00  1  2  1       121\n",
       "1     12347.0        2          6   3598.21  5  4  5       545\n",
       "2     12348.0       75          4   1797.24  2  4  4       244\n",
       "3     12349.0       19          1   1757.55  4  1  4       414\n",
       "4     12350.0      310          1    334.40  1  1  2       112"
      ]
     },
     "execution_count": 85,
     "metadata": {
      "tags": []
     },
     "output_type": "execute_result"
    }
   ],
   "source": [
    "rfm['RFM Score'] = rfm['R'].map(str) + rfm['F'].map(str) + rfm['M'].map(str)\n",
    "rfm.head()"
   ]
  },
  {
   "cell_type": "code",
   "execution_count": null,
   "metadata": {
    "id": "CJ10feIB7Azs",
    "outputId": "588ecbc7-406c-43d7-a73a-0596b1d47813"
   },
   "outputs": [
    {
     "data": {
      "text/html": [
       "<div>\n",
       "<style scoped>\n",
       "    .dataframe tbody tr th:only-of-type {\n",
       "        vertical-align: middle;\n",
       "    }\n",
       "\n",
       "    .dataframe tbody tr th {\n",
       "        vertical-align: top;\n",
       "    }\n",
       "\n",
       "    .dataframe thead th {\n",
       "        text-align: right;\n",
       "    }\n",
       "</style>\n",
       "<table border=\"1\" class=\"dataframe\">\n",
       "  <thead>\n",
       "    <tr style=\"text-align: right;\">\n",
       "      <th></th>\n",
       "      <th>CustomerID</th>\n",
       "      <th>Recency</th>\n",
       "      <th>Frequency</th>\n",
       "      <th>Monetary</th>\n",
       "      <th>R</th>\n",
       "      <th>F</th>\n",
       "      <th>M</th>\n",
       "      <th>RFM Score</th>\n",
       "      <th>Segment</th>\n",
       "    </tr>\n",
       "  </thead>\n",
       "  <tbody>\n",
       "    <tr>\n",
       "      <th>0</th>\n",
       "      <td>12346.0</td>\n",
       "      <td>326</td>\n",
       "      <td>2</td>\n",
       "      <td>0.00</td>\n",
       "      <td>1</td>\n",
       "      <td>2</td>\n",
       "      <td>1</td>\n",
       "      <td>121</td>\n",
       "      <td>hibernating</td>\n",
       "    </tr>\n",
       "    <tr>\n",
       "      <th>1</th>\n",
       "      <td>12347.0</td>\n",
       "      <td>2</td>\n",
       "      <td>6</td>\n",
       "      <td>3598.21</td>\n",
       "      <td>5</td>\n",
       "      <td>4</td>\n",
       "      <td>5</td>\n",
       "      <td>545</td>\n",
       "      <td>champions</td>\n",
       "    </tr>\n",
       "    <tr>\n",
       "      <th>2</th>\n",
       "      <td>12348.0</td>\n",
       "      <td>75</td>\n",
       "      <td>4</td>\n",
       "      <td>1797.24</td>\n",
       "      <td>2</td>\n",
       "      <td>4</td>\n",
       "      <td>4</td>\n",
       "      <td>244</td>\n",
       "      <td>at risk</td>\n",
       "    </tr>\n",
       "    <tr>\n",
       "      <th>3</th>\n",
       "      <td>12349.0</td>\n",
       "      <td>19</td>\n",
       "      <td>1</td>\n",
       "      <td>1757.55</td>\n",
       "      <td>4</td>\n",
       "      <td>1</td>\n",
       "      <td>4</td>\n",
       "      <td>414</td>\n",
       "      <td>promising</td>\n",
       "    </tr>\n",
       "    <tr>\n",
       "      <th>4</th>\n",
       "      <td>12350.0</td>\n",
       "      <td>310</td>\n",
       "      <td>1</td>\n",
       "      <td>334.40</td>\n",
       "      <td>1</td>\n",
       "      <td>1</td>\n",
       "      <td>2</td>\n",
       "      <td>112</td>\n",
       "      <td>hibernating</td>\n",
       "    </tr>\n",
       "  </tbody>\n",
       "</table>\n",
       "</div>"
      ],
      "text/plain": [
       "   CustomerID  Recency  Frequency  Monetary  R  F  M RFM Score      Segment\n",
       "0     12346.0      326          2      0.00  1  2  1       121  hibernating\n",
       "1     12347.0        2          6   3598.21  5  4  5       545    champions\n",
       "2     12348.0       75          4   1797.24  2  4  4       244      at risk\n",
       "3     12349.0       19          1   1757.55  4  1  4       414    promising\n",
       "4     12350.0      310          1    334.40  1  1  2       112  hibernating"
      ]
     },
     "execution_count": 86,
     "metadata": {
      "tags": []
     },
     "output_type": "execute_result"
    }
   ],
   "source": [
    "\n",
    "segt_map = {\n",
    "    r'[1-2][1-2]': 'hibernating',\n",
    "    r'[1-2][3-4]': 'at risk',\n",
    "    r'[1-2]5': 'can\\'t loose',\n",
    "    r'3[1-2]': 'about to sleep',\n",
    "    r'33': 'need attention',\n",
    "    r'[3-4][4-5]': 'loyal customers',\n",
    "    r'41': 'promising',\n",
    "    r'51': 'new customers',\n",
    "    r'[4-5][2-3]': 'potential loyalists',\n",
    "    r'5[4-5]': 'champions'\n",
    "}\n",
    "\n",
    "rfm['Segment'] = rfm['R'].map(str) + rfm['F'].map(str)\n",
    "rfm['Segment'] = rfm['Segment'].replace(segt_map, regex=True)\n",
    "rfm.head()"
   ]
  },
  {
   "cell_type": "markdown",
   "metadata": {
    "id": "CwoFTQ_i7Azs"
   },
   "source": [
    "# Visualize our customers segments"
   ]
  },
  {
   "cell_type": "code",
   "execution_count": null,
   "metadata": {
    "id": "_8DT32KQ7Azs",
    "outputId": "24503ca7-e980-4cb7-becc-adf6e9e29026"
   },
   "outputs": [
    {
     "data": {
      "image/png": "iVBORw0KGgoAAAANSUhEUgAAAjwAAAEJCAYAAACQUP0ZAAAABHNCSVQICAgIfAhkiAAAAAlwSFlzAAALEgAACxIB0t1+/AAAADh0RVh0U29mdHdhcmUAbWF0cGxvdGxpYiB2ZXJzaW9uMy4xLjIsIGh0dHA6Ly9tYXRwbG90bGliLm9yZy8li6FKAAAgAElEQVR4nO3de3xcd33n/9d3RiNZjnWXRndbiu+yZTu2YjuE4DQXLk0IkJSFLpQN0G1ZYLvcmtBuuwvdX1tClzaBdCElhGQLaVkgkBKalJCkDiHYieXY8UWyY1t2ZMmSrPvFuo3m+/vjzByPbrZkXUZz9H4+HvOwZ85lPnPR97znnO/5HmOtRURERMTLfPEuQERERGSuKfCIiIiI5ynwiIiIiOcp8IiIiIjnKfCIiIiI5ynwiIiIiOct+sBjjPl3Y8yDc7DeMmOMNcZURe7fGLmfO9vPFVn/nLyOK2GM+QNjzJvGmLAx5kvxrkckkamNmn1qoxYnTwYeY8yjkT9ca4wZNsa0GGNeMMZ8yhgTGDP7ncCfTHG9XzLGHJ5iGfVAIXBgGqVPpYa7jTG9E0ya8uuYS8aYLODvgb8BioH/Pcl8p2M+o35jTK0x5o+NMWY+6xWJB7VR8XOFbVT01jmftcrs8mTgifglzh9zGfB24GfAl4FfGWOuis5krW231vbM5hMbY5KttSPW2iZrbWg21z2ZuXgdV2gFkAQ8Za09Z62dqOGL+gucz2g9TqPzV8AfzH2JIguC2qj4uJI2KnpbM9mMxpjkWa1SZp+11nM34FGcL/PYxzcCQ8CXYx77d+DBmPt3Aq8D/UA7sBvIB+4G7Jjb3ZFlLPAp4AmgD2fjXRZ5vCoyz42R+7fj/KIaAKqBbTHPfTfQO6bm6HK5Mf+PvX1pkteRBTwGdEReyy+BDWOfC7gZOByp+wWg/DLv7XLgJ0BP5PYEUBKzzrH1lU2yntPAF8Y8Vg38eMxjFcDPI8/VAvwTUDBmnv8EHAIGgWbgsZhpGcA/RJbtiXyeVdN9H4DfBvZG3ss2nI3TEuB/AIcneH2/Br4e778F3RbmDbVRkIBtVMy0pMiynwCejNT2lZjP8OlI7S3A94H8Mcv+HdAZ+fy+htNG/TJmnpeA+8c85/eAn8bc9+HsMTsVef8OAb8bM31VpMb3Ac8BF4AjwE1j1luB0551R2p+OfLYTTjfxbwx898H7I/339CV3Ly8h2cca+1h4BngrommG2MKgH/G+SNcD7wN+MfI5B/gfDGPcTHt/yBm8f8J/CtQibO7dDL/G7gXqML5oj5ljFk6xZfwMvAZnC9utIYJd8fiNKg7gPcA2yPLPGOMSY2ZJwXnD+ZjwHVAJvCtyZ7cGOPD+ePOB34rcisCfho5FPUD4J2R2bdH6qu/3Isyjhtx3vPhmMcLgRdxGrvtwC3AMuDJSC0YY/4QeAj4LrAJJ5gcjq4XJywV4zTi10TW93xk3VN6H4wx7wT+BXgW2BZ53btxGpxHgHXGmO0x868F3gJ853KvXSSW2qiF2UZdwpcjz1cJfMsYU4zTNryG8/7dGqn5JzGH6+8BPgr8Pk47kQp88Aqe+6+BjwD/BSeg3Ad8xxjzjjHz/RXwt8DmSF3/HP08jTElOOFqGCdYbgW+iRPKXgDeBH4vuiJjjD9yPzHbtngnrrm4Mcmvp8i0rwAXYu7/O5FfHTgftgVWTLLsl5j417wFvjHmsTIm/vX0oZh5luGk/N+P3L+bS/x6mmyeCV7H6sgyb4uZngF0jXkuC6yNmedDOHtJzCSv/1ZghJhfRMDVQBi4JXK/ikv8aopZ7nTkuXpxfkVYnF8pb4mZ5y+A58YslxWZd3vk/lkiv6wmeI6bIutPHfP4AeCeqb4POHtr/vkSr+Up4Fsx9+8D9sX770C3hXtTG5VwbVT09qeRadE9PH83Zpm/Av5tzGN5kXm3Ru63APfGTPcBJ5nGHh4gDWcP3HVj5nkQ+JfI/6N7eD4eM31F5LGdkfv34YTawCTvwReBQzH3343TTmfG+2/oSm6Lag9PhMH5wCdyEGe36mFjzI+NMf/FGJM3xfXum+J8v4n+xzrHjg/hpPPZtB7nDzz2ubomeK5Ba+2xmPuNQDJOqJhsvY3W2tMx6z0VWe5KXsPfAluAXTi/Jr5srX05Zvo24G3GmN7ojYu/xlYaY4I4e2+em2T924ClwPkx69gIrIyZ73LvwzWXeA6AbwMfNMakJvwvIFkI1EZdtFDaqOht7N6lse/pNuC3xrQ3dZFpK40xOTgBKPZ1h4FXplnXRpy9X8+Oea7/zOi2DZzDn1GNkX+DkX+vAX5lrR1mYo8yeg/2x4AnrLUJ2Xk7Kd4FxEEFTqIdx1o7Yox5O7ATpxPhx4G/NsbsstYevMx6+2ahtjBOYxdr7BkbMxXbkI7trBiddiVBeLIG+lLarLUngBPGmLuAN4wxe621L8TU8XPgCxMs24yzK/hSfJH5bphgWnfM/2f6PvwcZ3f8XTi/UDOBx6e4rMhYaqMuWiht1GTGvqc+nP4w904wbxNOSJmKy73P0dd/G9AwZr6hMfdjw8y03j9rbZMx5ingY8aY05Hne+ell1q4FtUeHmPMRpwP60eTzWMdv7HWfhm4FicRfyAyeQjwz7CMnTH1XIWT1GsiD50Hlhpj0mPm3zJm+anUUIPz2V4X81zpOMeZj15Z2e56i4wxZTHrvRrnGPlM1ou1tgNnd+zfxRzr3g9sAM5Ya0+MufVYa1tw/thvnmS1+3GO5YcnWL5lGuW9donnwDpnuTyK8+sn+guoaxrrFwHURrGA26gpirZZpydoc3qttW0472Hse+zD+RxjncfpXxSdx+D0wYk6jPM+L5/ged6cRr2vATdMMBRCrG/j9DH6A5wuBC9cYt4FzcuBJ8UYU2CMKTLGbDbGfA7nGHI1k4+7sNMY82fGmGuNMcuBO4BSLv6hnAZWGGO2GmNyjTFTTeux/swYc6sxZgNOh9chLu4N2Ivzi+GvjTGrIns9Pjlm+dPAksg6cifqTGitfQOnI91DxpgbjDGVOMd/u5nZnodf4uwe/b4xpso4A5Z9H+eP/PkZrDfq/wBrgfdH7v89znH9HxhjdhhjrjbG3GKM+QdjTFpknr8EPmOM+awxZo0xZosx5vMx9f4ap5Pzu4wx5caY64wxXzbGTLTXZzJ/CbzfGPP/GWMqjDEbIs8X+94/jHNo7nZ0OEumRm1U4rVRl/MNnLPV/skYsz3SZt1qjHnYXOyM/QDwRWPMncaYdcDXuXiIKep54DZjzO3GOQnifmICUOQH1d/h/EC82xiz0hhzjTHmk8aY359GvQ/iHB78QeT9WmWM+Y/GmE0x8zyD87n8OfBdG+nMk5Di3YloLm44v7ajpxyGgFachuTTQPKYef+dix3p1uOcTtiM01ntBJHOrZHpKTi/vDoYf8rn74xZbxkTdwi8A+cPchDnj/DaMcu9BziO0zHs34APE9MhMDLPNyOvyTLDUz7HPPeNY59rgvd2OfBTLp7y+RMip3xGpk+nQ+C4Uz5xTs88Cvgi91fHvOf9OGegfCP2c8TZrX8Up2FuAh6JmZaG08CcjUyvxznLZeV03ofI51Yd+dxacc7aWjJmuedxOh9O2KFSN92iN9RGQYK2UZFp0U7L751g2lqcU+Fj26yvA0kxyz6A0xm8AyfMfJvRnZaTI+9hdI/Q/2T8aekG54y4Gpy27TzwC+DmyPRop+Utl6obZ6/aMzidsntwfiRWjHlNf4HTGbw03n87M7lFz0IRkRkyxhwFvm+t/ct41yIiicMY8y1glbX2lnjXMhFjzLdxQuO74l3LTCzGTssisypylszv4Pxifii+1YiIzA5jTAbOHqAP4QxgmNAUeERmrgVn9/0fWmtb412MiMgs+TnO2E8PWWv/Ld7FzJQOaYmIiIjnefksLRERERFAgUdEREQWAQUeERER8TwFHhEREfE8BR4RERHxPAUeERER8TwFHhEREfE8BR4RERHxPAUeERER8TwFHhEREfE8BR4RERHxPAUeERER8TxdLV0WjJ+tXNkE5Me7jgk0v/vkyYJ4FyFzawF//0DfQZEZU+CRhWShbmwWal0yuy75OW/+ylfIv+kmBtva2P2udwGw9rOfpeCWW7DhMENtbbx2zz0MtrQQSE9n8333cdXy5YwMDnLwi1+k5/hxAG7evZtQXx92ZAQ7MsKv3vveGdcmIpenQ1qSkMrvvptdTz/NjU8/TfnddwMQyMhg52OP8VvPPcfOxx4jkJ4+apmMykpuO3aMwne+Mw4VS6Kr//GP2fvRj4567OS3v83u227jxXe/m+YXXmDNf/2vAKz65CfpPnqU3bfdxoEvfIENf/7no5b7zYc+xIvvfvdUw46IzAIFHkk4aWvWsPwDH+Cl972P3bffTv5NN7F0xQpWfeITtL78Mi/cfDOtL7/Mqk984uJCPh8V997L+Zdeil/hktDaX32Voc7OUY+Fenvd//tTU8FaANJWraL1N78BoPfUKZYWF5OckzN/xYrIOAo8knCWrVxJ54EDjAwMYEdGaHvlFQrf8Q4KbrmF+ieeAKD+iScouPVWd5nyj3yEc888w1BbW7zKFo9a9/nPc8tLL1H8nvdw7P77AeiuqaHwHe8AIHPTJlKLi0ktLHQWsJadjz7KDU8+yfIPfjBeZYssOgo8knB6jh8n+9prCWRm4l+yhOCuXaQWFpKSm8vg+fMADJ4/T0puLgBL8vMpfPvbOf3978ezbPGo2q99jV++9a00PPkkZb/3ewCceOghktLTedvPfkb5Rz5C99Gj2JERAH79gQ/w4nvew96PfYyyD3+Y7GuvjWf5IovGrHZa3r17t53N9c2WXbt2mXjXILOn9+RJTjz0EDsfe4yRCxforqlxNyaxbOTwwoY/+zOOfvWr7uGGuaLv/+LW8OSTbH/kEY4/8ACh3l4O3nuvO+3m3bu5UF8PwEBzMwBDbW00/eIXZG7eTPurr8alZpHFRGdpSUKq/+EPqf/hDwHnkEJ/UxODra2k5OU5e3fy8tzDV5mVlWx74AEAkrOyCN54I3ZkhKZnn41b/eINV5WV0Xf6NAD5t95K78mTACSlpTmHXIeHWf6BD9D26quEenudfj4+HyN9ffhTU8m74QaOf+MbcXwFIotH3AJPcXExhZFj2n19fdTW1rJ582b8fj8AgUCAnp4ejhw5QkZGBhs3bmRgYACA1tZWzpw5E6/SZQFIzslhqK2N1MJCCt/xDn51110sLS2l9M47OfHQQ5TeeSdNv/wlAM/deKO73JavfpXm55+Pe9iZzvcfICMjg1WrVmGMYXh4mIMHD8at9sVq6/33k7NjB8lZWdzy0ksce+AB8m+8kauuvhrCYS40NHAocjZW2qpVbPmbvwFr6XnjDQ5+8YsApOTmUvXNbwLg8/tp+NnPOP/ii3F7TSKLSVwCT3JyMsXFxezbt49wOMz69esJBoMcOHDAnaeiooK2mA6mXV1dHD58OB7lygJU9fd/T3JmJuFQiENf+hKhnh5OfOtbbPvGNyj9D/+B/oYGqiOnCC800/3++/1+Vq9ezaFDhxgcHCQQCMSr9EVt/2c+M+6x6F7GsTpee40Xbrll3OMX6ut58fbbZ702Ebm8uO3hMcbg8/kIh8P4/X6GhobcaX6/n8zMTI4dOzavNSV6H4xEr386Xp7g7Jbhzk72RDqNTubAPffMdilXZDrf//z8fFpbWxkcHARgeHg4LjWLiCSyuASeoaEhzp49y86dOxkZGaGjo4OOjg53em5uLp2dnYzEdERNT09n27ZtDA0NcfLkSS5cuBCP0kVmbLrf/9TUVIwx7iGvhoYGmiMdX0VEZGriEniSkpLIyclh7969hEIhKioqCAaDtLS0ABAMBjl37pw7f29vL3v27CEcDpOdnc2GDRt4Nc5nNUzUB8NaS1lZGXl5eVhrOXfuHA0NDQCsXLmSnJwcRkZGOHbsGL0xA5bFw0T1r1mzhoyMDHdDW1tbS19fHyUlJeTnOyPbG2NYunQpL7/8MqFQKG71J7Lpfv+NMaSlpXHw4EF8Ph/XXHMN3d3d9Pf3x+sliIgknLiMw5OZmcnAwADDw8NYa2ltbSU9chmApKQk0tLSRvXfGRkZIRwOA9De3o7P5yMpKX4nmEX7YOzfv599+/YBzkYqPz+flJQUXn31Vfbt2+duwLKzs1m6dCmvvPIKx48fZ/Xq1XGrHSavH+DUqVNUV1dTXV1NX18fAGfPnnUfq6uro7OzU2FnBqb7/R8cHKS9vZ1wOEwoFKKrq4urrroqXuUvOr6UFN7y+OOkFhXxtief5G0/+xk3Pv00K373d915ooMPvuv110ctW/aRj7Dr6afZ/p3vYCJ9r7K3bWPDf//v7jzJ2dns+O535+fFiCxicQk8g4ODpKen4/M5T5+ZmekeosrLy6Otrc0dQwUY1UkzLS0NIO4b3GgfDMDtg1FUVDTq7LFoX4ucnByampoA6OnpISkpieTk5PkvOsZE9U9FXl6eG+TmS3SDk7FxI9f/8Ifc+PTT7Pr5zym67TZ3ntSSEt764x9z0/PPs/XrX3c3LgtxgzPd739bWxsZGRkA+Hw+0tPTdUh3Hi1///s594tfMHD+PC+9//3ONbDuuotVn/gEKZEfCk3PPcev3ve+ccuW3HEHu3/7t+nYv5/gDTcAsPrTn+b4gw+68wy1tzPQ0kLWtm3z84JEFqm47Cbp6enh/PnzbNu2DWstvb297i78YDDIm2++OWr+vLw8ioqKsNYSDoepqamJR9muyfpgRM+2yc3NZXh4mBMnTtDf309KSorb4RScDV5ycvKUQ8Z81R8MBikvL2fFihV0dnZy6tSpURten89HdnY2J06cmNd6oxucUG8vB/74j+k7fZqUYJC3PfkkLS++SKinh4p77uHUd79L41NPUfm//hfL3/9+zjz+uLvBWf3JTxK84Qaan3+e1Z/+9KgzbmI3OB3V1XP+eqb7/b9w4QLt7e1UVVUBcO7cOQWeeVT8nvew/zOfwQ4PE/1r8CUnY3wXfy92xpxhN4ox+AIB/EuWEA6FKHnve2nZvZvhrq5RszU9+ywld9wxL98/kcUqbseFzpw5M+FYOhONL9LY2EhjY+N8lDUlk/XBiJ51s3//fnJzc1m7du2oU40Xisnqr6urY2hoCGMMa9asYfny5aM+o5ycHLq7u+d971p0g9Mf6Q8FMNjSwmBbGyk5OYR6esi97jr2f/azAJx94gnW/NEfcebxxxfsBmc6339wDiuePXt2rsuSMUwgwNLSUve7t6SwkB0PP8xVK1Zw9CtfYfAyeztP/+M/8tYf/YieN96gvbqa7Q89xJ677x43X9ehQ6z73Ofm4iWISISupXUFJuuDMTg4SGtrK+AMjhjtZzE4OEhKSoq7fEpKStz27sDk9UdrstbS1NTkHj6Miu1YO1/GbnCiMjdtwhcI0HfmDMlZWQz39LiXl+hvamJJQQFwcYOTWlREe3U1pb/zO5z+3vfGPU/XoUO6ppGMk5yVRai7270/cO4cu2+7jeduuomSO++87BXQz/70p7x4xx289vnPc/VHP0rdY48R3LWLbQ8+6BxWNc6IDYNtbSyJHB4TkbmhwHMFJuuD0draSmZmJuCMjBs97NDW1kZBZAOclpZGKBSKa+CZrP7YfkW5ublup2Vw+vlkZGS4gW6+jN3gAKTk5XHN177GgXvvvez1sbTBkZkIDwzgi/mxEjXY0kLP8ePkTDEkpwSDZG3eTNOzz7Ly4x+n+o/+iOHubnLf8hbA6ac2EhlJXkTmhq6ldQUm64Ph8/lYv349xcXFhMNhjh8/DjhnlmVnZ7N9+3b3tPSFWH9lZSWBQABjDL29vW794ASgjo4O92y5+TJ2g5O0bBk7Hn6Y2q99ze03MdTRQSAtDeP3Y0dGSC0oYCDSSTwqusF548EHecvjj/Pyhz/Mmk99ity3vIXWX/9aGxyZ0HB3N8bvx5ecTHJ2NkMdHYQHBwmkp5NdVcWpRx6Z0nrWffazHLv/fgB8S5aAtVhrnWtrAcvKy+l54405ex0iMk+Bx+fzUVlZycmTJ1m9ejV+vx9rLW+++Sbnz58HYMmSJaxfv969hlB0XJuioiKKiooYGBjgyJEjWGtJT08nLy+Pk5EL9QUCAdatW8ehQ4fm4+UAE/fBGBkZmfTyF/Pd0fdyJqr/9TGn1MZqbm6Oy2B3sRscay1V3/wm9T/5CeeeeWbUfK179lD4rnfR+NRTlMRcRysqnhscL37/F5Pzv/oV2VVVYAwb/vRPsdZijOHkww/TE/lRsP7eeyl+97vxp6Zyy0sv8eb/+38c//rXAUivqACgK3JdtIZ/+Rdu/Nd/pb+piZP/8A8A5OzcSfMLL8Th1YksHvMSeAoKCmhtbWVkZITa2lr6+/tJTk5m69attLe3MzIyQnl5OWfPnuX8+fOsXr2agoICzp07R35+Pvv27WP58uVkZ2fT1tbGihUrRp2pNTw8zNDQEOnp6XSPOfwhiS+6wUnJyyPn2mtJzsyk9K67AOdSEd01NdR89atsfeAB1n3uc3QdOTLqGkfx3uDo+5/YTn/ve1z90Y/y2he+wO6YoRBi1dx3HzX33TfhtO6jRzn4J3/i3q979FHqHn101DwFN9/Mq3/4h7NWs4iMNy+BJxgMUlNTM+rU7KGhIYaHh0lOTqa/v5+srCy3EW9ubmbFihXuqbrGGPx+P+FwmGAwSHt7+7gzhVpbWwkGg2rwPSh2g9Pw5JMTznOhvp6X7rxzwmnx3uDo+5/Yuo4coXXPHvD5YA4O6SZnZ3PqkUcY1mcnMqfmvNOyMYbU1NRRjT04nXeNMfT395OUlDSqAY89q6mhoYFrrrmGlJQUuru7KSgomPAU9Z6eHndwNvGWURucOTCXGxx9/72h/kc/mpOwA844UE3PPjsn6xaRi+Z8D08gEBj3azQ5OZl169ZRW1t72eVbWlrcU6FXrFhBQ0MD2dnZ5OfnMzg46PZjGB4eHnXq92yK9sE4ePAglZWVpKen09XVNaq/TmZmJldffTU+n4+enh63Y3Jubi5lZWWEQiEOHz5MKBRiyZIllJeXu7/ojTFs2rRp0jFYJLLBmSNzucHxwvdfRMQL5nwPTzgcdk9/Buf05o0bN1JXV0dPTw/gXCYi9tpYY0cmBmcjEb3GUElJCUePHiUUCpGVleW8kMigf3Mh2gcDoL6+fsIN1dq1a6mpqWHfvn0MDg66p6FHr1nV2NjoXq+qvLyc06dPu8taa+ns7HSnzzafz8fmzZsBqKys5Prrr2fjxo2j5snMzGTr1q1UVVWxdu1a9/Hc3FyqqqrYsmWL+xlFO9hGRa/kLeN54fsvIuIFcx54or9ujTEYY9iwYQPNzc3jxnPp7OwkLy8PgPz8/FEXTwQoKytzQ0J0A2Ktdf+fmpo6atyY2RQMBt16J7pwZiAQwFrrXr26o6OD3NzcUTVGz8zJyMhgaGho3JWuo30w5kKiB7ZE5oXvv4iIF8xLp+WOjg4yMjJITk4mIyODQCDgblBra2vp6+vj1KlTrF+/nvLy8lHXFgJYtmwZAL29vYCzm7+qqorBwUHq6+sBZw/F2I3EbJisD0as4eFhjDEsW7aM3t5ecnNz3cML9fX1bNq0iaGhIWpqaqioqJjwWmB9fX3jRjaeLdFOs+BsWMf29ZgosJWWltLU1DStwFZeXj7vIzEngkT+/ouIeMW8BJ7GxkZKSkqora2ddIM4MDDAa6+9NuG0sYPgNTQ00DDmUgM5OTkciZx2PJsm6oMxkZqaGlatWoUxho6ODvfx6IU5wfnl3t7eTmpqKqWlpYRCIU6cOOEeirDW4vf7GYlcImE2eCGwJbpE/v6LiHjFvASe3t5eOjs752z9gUCAs2fPzslFLcf2wZhMd3e3e6HQrKwsUiMD2kX5fD7y8/M5dOgQGzdu5MiRI+Tl5REMBmmKjAo8F/0wEj2weUEif/9FRLxi3q6l1TRmqP/ZNDw8PGe782P7YFxKIBBw5ystLR11SAKgtLSUhoaGUf0uogEBnCuYRy/mOZumG9hee+01urq63OuARUUDW2NjI2VlZdTW1tLV1TWq3446zk4uUb//IiJeoWtpTUG0D0ZnZydbtmwhNTUVv9/Pzp07OXbsmNvnJTs7G2MMjY2No37RR8+wiV7KoaGhga1btxIKhdzDEHPVByM2sF0qTAUCAffQVmlpKW+++eao6ZMFtujZRXMV2ERERGaDAs8URPtgdHZ2uoetxjp16hSnTp2acNrQ0NCoMXtaW1vHnaUTDAapq6ubvaJjJHJgExERmQ0KPFMw130wjDG0tbWNO/NptiR6YBMREZmpeevDk+jmsg+GtXZOr0Se6IFNRERkphR4FolEDmwiIiIzpcAjIiIinqfAIyIiIp6nwCMiIiKep8AjIiIinqfAIyIiIp6nwCMiIiKep8AjIiIinqfAIyIiIp6nwCMiIiKep8AjIiIinqfAIyIiIp6nwCMiIiKep8AjIiIinqfAIyIiIp6nwCMiIiKep8AjIiIinqfAIyIiIp6nwCMiIiKep8AjIiIinqfAIyIiIp6nwCMiIiKep8AjIiIinqfAIyIiIp6nwCMiIiKep8AjIiIinqfAIyIiIp6nwCMiIiKep8AjIiIinqfAIyIiIp6nwCMiIiKep8AjIiIinqfAIyIiIp6nwCMiIiKep8AjIiIinqfAIyIiIp6nwCMiIiKep8AjIiIinqfAIyIiIp6nwCMiIiKep8AjIiIinqfAIyIiIp6nwCMiIiKep8AjIiIinqfAIyIiIp6nwCMiIiKelxTvAkRERCS+du/ebeNdw2R27dplZmM9CjwiIiIztBgCQ6zi4mIKCwsB6Ovro7a2Fmudt2DlypUUFhby0ksvAZCSksK6devw+/0YY6irq6O9vX22S7osBR4REZF5Np3AUFhYSFFREQAjIyMcP36cCxcuxKdwIDk5meLiYvbt20c4HGb9+vUEg0Gam5tZtmwZgUBg1PzLly+npaWFc+fOsXTpUiorK9m7d++8160+PCIiIvMoGhj279/Pvn37AAgGgwATBoaWlhaqq6uprq6mvr6elStXznvNYxlj8PmcCOH3+xkaGgKcsHbq1D5k25IAAA/MSURBVKlx8yclJbn/Dg4Ozl+hsTXE5VlFREQWsWhgCIfD4wJDTU0Nubm57rwjIyPu/6MhI56GhoY4e/YsO3fuZGRkhI6ODjo6OiguLqa1tdV9LVFnzpyhsrKS4uJifD4fr7/+elzqVuARERGZR9MNDABFRUWUlJRgjIlbYIhKSkoiJyeHvXv3EgqFqKioID8/n7y8PA4cODBu/ujhrrNnz5Kens66devcPVvzKf5RUUREZBGJDQx79uzB7/e7gaGhoWHCZRobG3nllVeoq6tj+fLl81zxaJmZmQwMDDA8PIy1ltbWVlasWEFqaio7duxgx44d+Hw+tm/fDkBBQQHnz58HoLu7G5/PN+6w3XzQHh4REZF5FBsYADcw+P1+duzYAeAGhldeeWXUsi0tLaxevZpjx47Ne91Rg4ODpKenu4fkMjMzOXv2LI2Nje48b33rW93aBwcHyczMpLm5maVLl+Lz+dzXPp8UeERERObRdANDamoq/f39AOTk5Lj/j5eenh7Onz/Ptm3bsNbS29vLuXPnJp3/5MmTrFmzhpKSEoC4hTUFHhERD1hs48AksukGhqKiIrKysrDWEgqFqK2tncdqJ3bmzBnOnDkz6fToKfUAFy5cmLBvz3xT4BEREZln0wkMJ0+enI+SPE+BR0RkkUlNTaWiosK9v2TJEk6fPk1nZydr1qzB5/NhreWNN96gp6eHjIwMNm7cyMDAAOD0ObnUxlpkIVLgERFZZPr7+6murnbvX3fddbS2trJmzRrOnDlDe3s72dnZXH311Rw8eBCArq4uDh8+HK+SRWZMp6WLiCxiWVlZ9Pf3u6Pf+v1+9994jYgrMhcUeEREFrG8vDxaWloAp6/I1VdfzY4dO1i5ciV1dXXufOnp6Wzbto3KykqWLl0ar3ITjs/nY/PmzQBUVlZy/fXXs3HjxlHzZGZmsnXrVqqqqli7dq37eG5uLlVVVWzZssW9NMOSJUtYv369O48xxl2/6r80BR4RkUXKGENubq47KFxhYSEnT55k7969nDx50t149fb2smfPHqqrq2loaGDDhg3xLDuhFBQU0NraCkB9ff2EZ1itXbuWmpoa9u3bx+DgIAUFBQDu9bYaGxvda22Vl5dz+vRpd1lrLZ2dne501T85BR4RkUUqOzubnp4edxC42I3b+fPnSUtLA5xrOYXDYQDa29vx+XzuL3a5tGAw6L6nnZ2dhEKhUdMDgQDWWndsnY6ODvc6WtZafD4ffr8fay0ZGRkMDQ2NG4entbV1zgJDotcfS4FHRGSRCgaD7uEscAbEy8jIAJzDFNENU+xlAKIhaOyGT8YzxpCamnrJvlDDw8MYY1i2bBngHAZKSUkBnD0qmzZtIicnh5aWFpYvXz7h2XF9fX3u56L6J6eILiKyCPl8PrKysjh+/Lj72PHjx1m1ahXGGMLhsDstLy+PoqIirLWEw2FqamriVXZCCQQCUwqGNTU17vve0dHhPh69qChAfn4+7e3tpKamUlpaSigU4sSJE+6eN2stfr9/1JXVF3v9YynwiIgsQuFwmJdffnnUY93d3ezfv3/cvI2NjaMueyBTEw6H8fkufyClu7vbHYk4KyuL1NTUUdN9Ph/5+fkcOnSIjRs3cuTIEfLy8ggGgzQ1NbnzRMOD6p+YDmmJiIjMgejeEWMufWWN6CFDYwylpaXjLjNRWlpKQ0OD2ycGLu4RAefq69Erl6v+yWkPj4iIyBzp6OggIyODzs5OtmzZQmpqKn6/n507d3Ls2DE6OjooLS0lOzsbYwyNjY10dna6yycnJ5OWlub2fWloaGDr1q2EQiGOHDkCOP2t2traVP9lKPCIiIjMkcbGRkpKSujs7Jz0ApqnTp3i1KlTE04bGhoaNcJ1a2ure9ZUVDAYHDVm0mxK9PpjKfCIiHiYz+ejsrKSgwcPUllZSXp6+rjLRGzZssU9vBAIBOjp6eHIkSPk5uZSVlZGKBTi8OHDhEIhlixZQnl5udtx2RjDpk2b3EtQyGi9vb2j9njMNmMMbW1t4071ni2JXn8sBR4REQ8bO3Cc3++nsLBw1Dyxv9wrKircwwvRgeNyc3MJBoM0NjZecuC42FPc5aJox9y5YK2lubl5ztYPiV9/lDoti4h42OUGjovl9/vJzMx0519oA8eJzIQCj4iIR01l4LhYubm5dHZ2umOhLLSB40RmQoe0REQ8aqoDx0UFg8FRpxQvtIHjRGZCe3hERDxqqgPHgTMWSlpa2oSnB0cHjmtsbKSsrIza2lq6urpGHcaaj4HjRGZCgUdExKOmOnAcOJePaGtrm3Dwt4UycJzITCjwiIh4WHTgOHBOP6+oqCAzM5OdO3eSlZXlzjfZWVbRgeOie36iA8cVFRW588/XwHEiM6E+PCIiHjaVgeOAScfRWUgDx4nMhPbwiIh4mJcGjhOZCQUeERGP88rAcSIzocAjIiIinqfAIyIiIp6nwCMiIiKep8AjIiIinqfAIyIiIp6nwCMiIiKep8AjIiIinqfAIyIiIp6nwCMiIiKep8AjIiIinqfAIyIiIp6nwCMiIiKep8AjIiIinqfAIyIiIp6nwCMiIiKep8AjIiIinqfAIyIiIp6XFO8CREREdu/ebeNdw2R27dpl4l2DzJz28IiIiIjnaQ+PiIgknB07dhAKhQCw1rJ//36SkpKoqKggJSWFwcFBjh49SigUIjU1lXXr1rFs2TLq6uo4e/ZsnKuXeFDgERGRhHTw4EE39AAsX76cjo4O6uvrKS0tpbS0lLq6OkKhECdOnCAnJyeO1Uq86ZCWiIh4Qk5ODs3NzQA0NzeTm5sLwPDwMD09PVi7YLsJyTzQHh4REUk41lo2bdoEwLlz5zh37hzJyckMDQ0BMDQ0RHJycjxLlAVGgUdERBLOgQMHGBoaIhAIsGnTJi5cuDBuHu3RkVg6pCUiIgknuidneHiY1tZW0tLSRu3VSU5OZnh4OJ4lygKjwCMiIgnF5/Ph9/vd/2dlZdHX10dbWxv5+fkA5Ofn09bWFs8yZYHRIS0REUkoycnJbNiwAQBjDC0tLXR0dNDT00NFRQUFBQXuaekAgUCAbdu2uSGppKSEV199lZGRkbi9Bpl/CjwiIpJQBgYGqK6uHvd4KBTi9ddfH/f48PAwe/bsmY/SZAHTIS0RERHxPAUeERER8TwFHhEREfE8BR4REVmwfD4fmzdvBqCyspLrr7+ejRs3jpqnqKiI7du3s2vXLpKSLnZNzc3Npaqqii1btriPL1myhPXr17vzGGPc9Yu3KfCIiMiCVVBQQGtrKwD19fXU1taOm6e7u5uDBw8yMDAw6vHi4mL2799PY2MjwWAQgPLyck6fPu3OY62ls7PTnS7epcAjIiILVjAYdANPZ2fnqIuFRvX29jI4ODjucWutO2aPtZaMjAyGhobo7+8fNV9ra6sCzyKgwCMiIguSMYbU1NQJw8xU1NfXs2nTJnJycmhpaWH58uWcOXNm3Hx9fX2kpaXNtFxZ4DQOj4iILEiBQGDCPTpT1dHRQUdHB+CMvNze3k5qaiqlpaWEQiFOnDhBOBwGnL1Bfr9fgxF6mPbwiIjIghQOh/H5Zr6Z8vl85Ofn09jYSFlZGbW1tXR1dY06jOXz+dzwI96kwCMiIgtSdO+OMWZG6yktLaWhocHt0wMX9+gAJCUlMTw8rKure5wCj4iILFgdHR1kZGQAsGXLFioqKsjMzGTnzp1kZWUBztlYO3fuJCUlhaqqKtasWeMun5ycTFpamnsh0YaGBrZu3UpRUREtLS0AZGZm6kKji4D68IiIyILV2NhISUkJnZ2dHDhwYMJ5GhoaaGhomHDa0NAQhw8fdu+3tra6Z31FBYNB6urqZq9oWZC0h0dERBas3t5eOjs752z9xhja2trGnaou3qPAIyIiC1pTU9OcrdtaS3Nz85ytXxYOBR4RERHxPAUeERER8TwFHhEREfE8BR4RERHxPAUeERER8TwFHhEREfE8BR4RERHxPAUeERER8TwFHhEREfE8BR4RERHxPAUeERER8TwFHhEREfE8BR4RERHxPAUeERER8TwFHhEREfE8BR4RERHxPAUeERER8TwFHhEREfE8BR4RERHxPAUeERER8TwFHhEREfE8BR4RERHxPAUeERER8TwFHhEREfE8BR4RERHxPAUeERER8TwFHhEREfE8BR4RERHxPAUeERER8TwFHhEREfE8BR4RERHxPAUeERER8TwFHhEREfE8BR4RERHxPAUeERER8TwFHhEREfE8BR4RERHxPAUeERER8TwFHhEREfE8BR4RERHxPAUeERER8TwFHhEREfE8BR4RERHxPAUeERER8TwFHhEREfE8BR4RERHxPAUeERER8TwFHhEREfE8BR4RERHxPAUeERER8TxjrY13DSIiIiJzSnt4RERExPMUeERERMTzFHhERETE8xR4RERExPMUeERERMTzFHhERETE8xR4RERExPMWXOAxxjxijGkxxhyOdy1XwhhTaox5wRhz1BhzxBjz3+Jd03QYY5YYY14xxhyM1P/leNc0XcYYvzHmNWPMU/Gu5UoYY04bYw4ZYw4YY/bFux6ZOrVf8eWF9gsSuw1byO3Xght40BjzNqAX+L/W2o3xrme6jDGFQKG1dr8xJg2oBt5rrT0a59KmxBhjgKustb3GmADwEvDfrLV74lzalBljPgdUAenW2tvjXc90GWNOA1XW2tZ41yLTo/YrvrzQfkFit2ELuf1acHt4rLUvAu3xruNKWWvPWWv3R/7fA9QAxfGtauqsozdyNxC5LaxUfAnGmBLgNuDheNcii4/ar/hK9PYL1IbNpQUXeLzEGFMGXAPsjW8l0xPZnXoAaAGetdYmUv33A/cA4XgXMgMW+IUxptoY8wfxLkYWJ7VfcZPobdiCbb8UeOaIMWYZ8GPgM9ba7njXMx3W2hFr7RagBNhujEmIXfPGmNuBFmttdbxrmaG3Wmu3Au8CPhU5TCIyb9R+xYdH2rAF234p8MyByLHjHwPft9Y+Ee96rpS1thN4AXhnvGuZouuBOyLHkP8ZuMkY8734ljR91tqGyL8twE+A7fGtSBYTtV9xlfBt2EJuvxR4Zlmk09x3gBpr7d/Gu57pMsbkGWMyI/9PBW4FauNb1dRYa//EWltirS0DPgg8b639cJzLmhZjzFWRzqIYY64C3g4k5Bk/knjUfsVXordhC739WnCBxxjzT8BvgLXGmLPGmI/Hu6Zpuh74PZxkfiBy++14FzUNhcALxpjXgVdxjoEn3KmRCSwfeMkYcxB4Bfi5tfaZONckU6T2K+7UfsXXgm6/Ftxp6SIiIiKzbcHt4RERERGZbQo8IiIi4nkKPCIiIuJ5CjwiIiLieQo8IiIi4nkKPCIiIuJ5CjwiIiLief8/eCGIMH//w9QAAAAASUVORK5CYII=\n",
      "text/plain": [
       "<Figure size 720x288 with 2 Axes>"
      ]
     },
     "metadata": {
      "needs_background": "light",
      "tags": []
     },
     "output_type": "display_data"
    },
    {
     "data": {
      "image/png": "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\n",
      "text/plain": [
       "<Figure size 720x720 with 25 Axes>"
      ]
     },
     "metadata": {
      "needs_background": "light",
      "tags": []
     },
     "output_type": "display_data"
    }
   ],
   "source": [
    "# plot the distribution of customers over R and F\n",
    "fig, axes = plt.subplots(nrows=1, ncols=2, figsize=(10, 4))\n",
    "\n",
    "for i, p in enumerate(['R', 'F']):\n",
    "    parameters = {'R':'Recency', 'F':'Frequency'}\n",
    "    y = rfm[p].value_counts().sort_index()\n",
    "    x = y.index\n",
    "    ax = axes[i]\n",
    "    bars = ax.bar(x, y, color='silver')\n",
    "    ax.set_frame_on(False)\n",
    "    ax.tick_params(left=False, labelleft=False, bottom=False)\n",
    "    ax.set_title('Distribution of {}'.format(parameters[p]),\n",
    "                fontsize=14)\n",
    "    for bar in bars:\n",
    "        value = bar.get_height()\n",
    "        if value == y.max():\n",
    "            bar.set_color('firebrick')\n",
    "        ax.text(bar.get_x() + bar.get_width() / 2,\n",
    "                value - 5,\n",
    "                '{}\\n({}%)'.format(int(value), int(value * 100 / y.sum())),\n",
    "               ha='center',\n",
    "               va='top',\n",
    "               color='w')\n",
    "        \n",
    "plt.show()\n",
    "\n",
    "# plot the distribution of M for RF score\n",
    "fig, axes = plt.subplots(nrows=5, ncols=5,\n",
    "                         sharex=False, sharey=True,\n",
    "                         figsize=(10, 10))\n",
    "\n",
    "r_range = range(1, 6)\n",
    "f_range = range(1, 6)\n",
    "for r in r_range:\n",
    "    for f in f_range:\n",
    "        y = rfm[(rfm['R'] == r) & (rfm['F'] == f)]['M'].value_counts().sort_index()\n",
    "        x = y.index\n",
    "        ax = axes[r - 1, f - 1]\n",
    "        bars = ax.bar(x, y, color='silver')\n",
    "        if r == 5:\n",
    "            if f == 3:\n",
    "                ax.set_xlabel('{}\\nF'.format(f), va='top')\n",
    "            else:\n",
    "                ax.set_xlabel('{}\\n'.format(f), va='top')\n",
    "        if f == 1:\n",
    "            if r == 3:\n",
    "                ax.set_ylabel('R\\n{}'.format(r))\n",
    "            else:\n",
    "                ax.set_ylabel(r)\n",
    "        ax.set_frame_on(False)\n",
    "        ax.tick_params(left=False, labelleft=False, bottom=False)\n",
    "        ax.set_xticks(x)\n",
    "        ax.set_xticklabels(x, fontsize=8)\n",
    "\n",
    "        for bar in bars:\n",
    "            value = bar.get_height()\n",
    "            if value == y.max():\n",
    "                bar.set_color('firebrick')\n",
    "            ax.text(bar.get_x() + bar.get_width() / 2,\n",
    "                    value,\n",
    "                    int(value),\n",
    "                    ha='center',\n",
    "                    va='bottom',\n",
    "                    color='k')\n",
    "fig.suptitle('Distribution of M for each F and R',\n",
    "             fontsize=14)\n",
    "plt.tight_layout()\n",
    "plt.show()"
   ]
  },
  {
   "cell_type": "code",
   "execution_count": null,
   "metadata": {
    "id": "JRbb1NGX7Azs",
    "outputId": "4e2c695c-3370-4448-823c-2cdcaf51ee6b"
   },
   "outputs": [
    {
     "data": {
      "image/png": "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\n",
      "text/plain": [
       "<Figure size 432x288 with 1 Axes>"
      ]
     },
     "metadata": {
      "needs_background": "light",
      "tags": []
     },
     "output_type": "display_data"
    }
   ],
   "source": [
    "# count the number of customers in each segment\n",
    "segments_counts = rfm['Segment'].value_counts().sort_values(ascending=True)\n",
    "\n",
    "fig, ax = plt.subplots()\n",
    "\n",
    "bars = ax.barh(range(len(segments_counts)),\n",
    "              segments_counts,\n",
    "              color='silver')\n",
    "ax.set_frame_on(False)\n",
    "ax.tick_params(left=False,\n",
    "               bottom=False,\n",
    "               labelbottom=False)\n",
    "ax.set_yticks(range(len(segments_counts)))\n",
    "ax.set_yticklabels(segments_counts.index)\n",
    "\n",
    "for i, bar in enumerate(bars):\n",
    "        value = bar.get_width()\n",
    "        if segments_counts.index[i] in ['champions', 'loyal customers']:\n",
    "            bar.set_color('firebrick')\n",
    "        ax.text(value,\n",
    "                bar.get_y() + bar.get_height()/2,\n",
    "                '{:,} ({:}%)'.format(int(value),\n",
    "                                   int(value*100/segments_counts.sum())),\n",
    "                va='center',\n",
    "                ha='left'\n",
    "               )\n",
    "\n",
    "plt.show()"
   ]
  },
  {
   "cell_type": "code",
   "execution_count": null,
   "metadata": {
    "id": "zESuvJsT7Azt"
   },
   "outputs": [],
   "source": []
  },
  {
   "cell_type": "code",
   "execution_count": null,
   "metadata": {
    "id": "mdrlHtg37Azu"
   },
   "outputs": [],
   "source": []
  },
  {
   "cell_type": "code",
   "execution_count": null,
   "metadata": {
    "id": "PbGCoP1P7Azy"
   },
   "outputs": [],
   "source": []
  },
  {
   "cell_type": "code",
   "execution_count": null,
   "metadata": {
    "id": "K71TU--E7Azy"
   },
   "outputs": [],
   "source": []
  }
 ],
 "metadata": {
  "colab": {
   "name": "RFM_segmentation.ipynb",
   "provenance": []
  },
  "kernelspec": {
   "display_name": "Python 3 (ipykernel)",
   "language": "python",
   "name": "python3"
  },
  "language_info": {
   "codemirror_mode": {
    "name": "ipython",
    "version": 3
   },
   "file_extension": ".py",
   "mimetype": "text/x-python",
   "name": "python",
   "nbconvert_exporter": "python",
   "pygments_lexer": "ipython3",
   "version": "3.9.12"
  }
 },
 "nbformat": 4,
 "nbformat_minor": 1
}
